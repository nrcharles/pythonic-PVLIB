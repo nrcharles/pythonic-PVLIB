{
 "metadata": {
  "name": "",
  "signature": "sha256:f417ea493a1e754d413a5898a3f585e350f3722920d259891467f4c7fe4a5bcc"
 },
 "nbformat": 3,
 "nbformat_minor": 0,
 "worksheets": [
  {
   "cells": [
    {
     "cell_type": "heading",
     "level": 1,
     "metadata": {},
     "source": [
      "Python Basics"
     ]
    },
    {
     "cell_type": "markdown",
     "metadata": {},
     "source": [
      "The following covers some basic python functionality. This is by no means an exhaustive overview, but shows some of the main functionality of the platform "
     ]
    },
    {
     "cell_type": "heading",
     "level": 3,
     "metadata": {},
     "source": [
      "Import modules "
     ]
    },
    {
     "cell_type": "code",
     "collapsed": false,
     "input": [
      "%matplotlib inline\n",
      "import matplotlib.pyplot as plt\n",
      "\n",
      "import sys\n",
      "import os\n",
      "\n",
      "import pvlib # imports pvlib into the namespace\n",
      "import pandas as pd #imports pandas into the namespace and renames it to pd, for ease of use\n",
      "from datetime import datetime #import functions for dealing with dates and times"
     ],
     "language": "python",
     "metadata": {},
     "outputs": [],
     "prompt_number": 1
    },
    {
     "cell_type": "heading",
     "level": 3,
     "metadata": {},
     "source": [
      "Use modules"
     ]
    },
    {
     "cell_type": "code",
     "collapsed": false,
     "input": [
      "pvlib.pvl_alt2pres(1000)     #try erasing __name__  and pressing tab, a list of available functions will appear that you can choose from "
     ],
     "language": "python",
     "metadata": {},
     "outputs": [
      {
       "metadata": {},
       "output_type": "pyout",
       "prompt_number": 2,
       "text": [
        "89874.75046856777"
       ]
      }
     ],
     "prompt_number": 2
    },
    {
     "cell_type": "heading",
     "level": 3,
     "metadata": {},
     "source": [
      "Use a Pandas DataFrame"
     ]
    },
    {
     "cell_type": "markdown",
     "metadata": {},
     "source": [
      "This block imports data from a .csv file and places it into a pandas DataFrame."
     ]
    },
    {
     "cell_type": "code",
     "collapsed": false,
     "input": [
      "TMY=pd.read_csv('Golden_mSi0251.csv',skiprows=2,index_col=0,parse_dates=True)\n",
      "TMY['Isc (A)'].plot()\n",
      "#TMY.info()    "
     ],
     "language": "python",
     "metadata": {},
     "outputs": [
      {
       "metadata": {},
       "output_type": "pyout",
       "prompt_number": 3,
       "text": [
        "<matplotlib.axes.AxesSubplot at 0x31ec7d0>"
       ]
      },
      {
       "metadata": {},
       "output_type": "display_data",
       "png": "[encoded data removed]",
       "text": [
        "<matplotlib.figure.Figure at 0x31ec290>"
       ]
      }
     ],
     "prompt_number": 3
    },
    {
     "cell_type": "markdown",
     "metadata": {},
     "source": [
      "Set the timezone, and shift time marker to UTC"
     ]
    },
    {
     "cell_type": "code",
     "collapsed": false,
     "input": [
      "TMY = TMY.tz_localize('MST')\n",
      "print('Localized Time Zone')\n",
      "print(TMY.index)"
     ],
     "language": "python",
     "metadata": {},
     "outputs": [
      {
       "output_type": "stream",
       "stream": "stdout",
       "text": [
        "Localized Time Zone\n",
        "<class 'pandas.tseries.index.DatetimeIndex'>\n",
        "[2012-08-14 06:15:16-07:00, ..., 2013-09-24 17:30:17-07:00]\n",
        "Length: 11887, Freq: None, Timezone: MST\n"
       ]
      }
     ],
     "prompt_number": 4
    },
    {
     "cell_type": "code",
     "collapsed": false,
     "input": [
      "TMY = TMY.tz_convert('UTC')\n",
      "print('Converted to UTC')\n",
      "print(TMY.index)"
     ],
     "language": "python",
     "metadata": {},
     "outputs": [
      {
       "output_type": "stream",
       "stream": "stdout",
       "text": [
        "Converted to UTC\n",
        "<class 'pandas.tseries.index.DatetimeIndex'>\n",
        "[2012-08-14 13:15:16+00:00, ..., 2013-09-25 00:30:17+00:00]\n",
        "Length: 11887, Freq: None, Timezone: UTC\n"
       ]
      }
     ],
     "prompt_number": 5
    },
    {
     "cell_type": "markdown",
     "metadata": {},
     "source": [
      "Resample to 10 min and hourly"
     ]
    },
    {
     "cell_type": "code",
     "collapsed": false,
     "input": [
      "#perform the resampling\n",
      "TMY_10min = TMY.resample('30min')\n",
      "TMY_Hr = TMY.resample('H')\n",
      "print(TMY_Hr.index)\n",
      "print(TMY.index)"
     ],
     "language": "python",
     "metadata": {},
     "outputs": [
      {
       "output_type": "stream",
       "stream": "stdout",
       "text": [
        "<class 'pandas.tseries.index.DatetimeIndex'>\n",
        "[2012-08-14 13:00:00+00:00, ..., 2013-09-25 00:00:00+00:00]\n",
        "Length: 9756, Freq: H, Timezone: UTC\n",
        "<class 'pandas.tseries.index.DatetimeIndex'>\n",
        "[2012-08-14 13:15:16+00:00, ..., 2013-09-25 00:30:17+00:00]\n",
        "Length: 11887, Freq: None, Timezone: UTC\n"
       ]
      }
     ],
     "prompt_number": 6
    },
    {
     "cell_type": "code",
     "collapsed": false,
     "input": [
      "#plot the output\n",
      "plt.figure(1)\n",
      "plt.clf()  #clear Figure\n",
      "TMY['Isc (A)'].plot(label='5min')\n",
      "TMY_10min['Isc (A)'].plot(label='30min')\n",
      "TMY_Hr['Isc (A)'].plot(label='hourly')\n",
      "\n",
      "plt.legend() #add a legend\n",
      "\n",
      "plt.xlim(datetime(2013,3,29), datetime(2013,3,31)) #limit the output to two days"
     ],
     "language": "python",
     "metadata": {},
     "outputs": [
      {
       "metadata": {},
       "output_type": "pyout",
       "prompt_number": 7,
       "text": [
        "(734956.0, 734958.0)"
       ]
      },
      {
       "metadata": {},
       "output_type": "display_data",
       "png": "[encoded data removed]",
       "text": [
        "<matplotlib.figure.Figure at 0x3395a10>"
       ]
      }
     ],
     "prompt_number": 7
    },
    {
     "cell_type": "heading",
     "level": 1,
     "metadata": {},
     "source": [
      "Functions for importing Matlab code"
     ]
    },
    {
     "cell_type": "markdown",
     "metadata": {},
     "source": [
      "For the purpose of this tutorial we will not go into these in-depth, but they peform the required steps to import .mat data structures into python data structures. NOTE: This is not the default method of data import into python, and more typical will be the import of .csv or .tmy files, which is a simplified process"
     ]
    },
    {
     "cell_type": "heading",
     "level": 3,
     "metadata": {},
     "source": [
      "Define Functions"
     ]
    },
    {
     "cell_type": "code",
     "collapsed": false,
     "input": [
      "from datetime import datetime, timedelta\n",
      "def parse(yr, doy, hr, min, sec):\n",
      "    dt = datetime(yr - 1, 12, 31)\n",
      "    delta = timedelta(days=doy, hours=hr,\n",
      "                      minutes=min, seconds=sec)\n",
      "    return dt + delta"
     ],
     "language": "python",
     "metadata": {},
     "outputs": [],
     "prompt_number": 8
    },
    {
     "cell_type": "code",
     "collapsed": false,
     "input": [
      "def importdict(Dict):\n",
      "    Dict.pop('__globals__')\n",
      "    Dict.pop('__header__')\n",
      "    Dict.pop('__version__')\n",
      "    DF=pd.DataFrame(Dict[Dict.keys()[1]])\n",
      "    for item in Dict:\n",
      "        DF[item]=Dict[item]\n",
      "    return DF\n",
      "\n",
      "\n"
     ],
     "language": "python",
     "metadata": {},
     "outputs": [],
     "prompt_number": 9
    },
    {
     "cell_type": "heading",
     "level": 3,
     "metadata": {},
     "source": [
      "Import data"
     ]
    },
    {
     "cell_type": "code",
     "collapsed": false,
     "input": [
      "import pandas as pd\n",
      "from scipy.io import loadmat\n",
      "import sys\n",
      "import os\n",
      "\n",
      "import pvlib\n",
      "\n",
      "\n",
      "SystemInfo=loadmat('SystemInformation (1).mat')\n",
      "SystemPerformance=loadmat('SystemPerformance (1).mat')\n",
      "WeatherData=loadmat('WeatherData (1).mat')\n",
      "\n",
      "Weather=importdict(WeatherData)\n",
      "System=importdict(SystemPerformance)           \n",
      "                        "
     ],
     "language": "python",
     "metadata": {},
     "outputs": [],
     "prompt_number": 10
    },
    {
     "cell_type": "code",
     "collapsed": false,
     "input": [
      "# Date parser for column date inputs\n",
      "\n",
      "date=[]\n",
      "for pos in range(Weather.shape[0]):\n",
      "    date.append(parse(Weather.Year.astype(int).values[pos],\n",
      "          Weather.Days.astype(int).values[pos],\n",
      "          Weather.Hours.astype(int).values[pos],\n",
      "          Weather.Minutes.astype(int).values[pos],\n",
      "          Weather.Seconds.astype(int).values[pos]))\n",
      "\n",
      "Weather.index=pd.to_datetime(date)\n",
      "System.index=pd.to_datetime(date)\n",
      "Data=Weather.join(System,rsuffix='_sys')\n"
     ],
     "language": "python",
     "metadata": {},
     "outputs": [],
     "prompt_number": 11
    },
    {
     "cell_type": "heading",
     "level": 3,
     "metadata": {},
     "source": [
      "Define site metadata and module parameters"
     ]
    },
    {
     "cell_type": "heading",
     "level": 6,
     "metadata": {},
     "source": [
      "NOTE: When importing TMY files, the 'meta' data structure is automatically populated. When importing custom data it must be defined explicitly. \n",
      "\n",
      "Module parameters can also be imported automatically using the pvl_retreiveSAM function, if it exists in the SAM sandia module database. Otherwise they must be imported manually as below: "
     ]
    },
    {
     "cell_type": "code",
     "collapsed": false,
     "input": [
      "meta={'aziumth':0,\n",
      "      'tilt':35,\n",
      "      'parallelStrings':1,\n",
      "      'seriesModules':5,\n",
      "      'latitude':35.05,\n",
      "      'longitude':-106.54,\n",
      "      'TZ':-7,\n",
      "      'albedo':.2}\n",
      "      \n",
      "\n",
      "module={'name'\t\t: 'Sample Module',\t\n",
      "        'vintage'\t: 2006,\t\t\n",
      "        'material' \t:'x-csi',\t\t\t\n",
      "        'area'\t\t: 1.244,\t\t\n",
      "        'Aisc'\t    : 0.000232,\t\n",
      "        'Aimp'\t    : -0.00036,\t\t\n",
      "        'Isco'\t\t: 5.988,\t\t\n",
      "        'Impo'\t\t: 5.56,\t\n",
      "        'Voco'\t\t: 48.53,\t\n",
      "        'Vmpo'\t\t: 40.03,\t\n",
      "        'Bvoco'\t   : -0.152,\t\n",
      "        'Bvmpo'\t: -0.162,\t\t\n",
      "        'Mbvoc'\t: 0,\t\t\n",
      "        'Mbvmp'\t: 0,\t\t\n",
      "        '#Series'\t\t: 72,\t\t\n",
      "        '#Parallel'\t\t: 1,\t\n",
      "        'delT'\t\t: 3,\t\n",
      "        'fd'\t\t: 1,\t\n",
      "        'N'\t\t: 1.241,\t\n",
      "        'IXO'\t\t: 5.93,\n",
      "        'IXXO'\t\t: 4.12,\t\n",
      "        'a_wind'\t: -3.62,\t\n",
      "        'b_wind'\t: -0.075,\t\t\n",
      "        'C0'\t        : 1.0072,\n",
      "        'C1'            : -0.0072,\n",
      "        'C2'            : 0.323035,\n",
      "        'C3'            : -3.49839,\n",
      "        'C4'            : 0.9966,\n",
      "        'C5'            : 0.0034,\n",
      "        'C6'            : 1.0827,\n",
      "        'C7'            : -0.0827,\t\t\n",
      "        'A4'\t\t: -0.0001223,\n",
      "        'A3'            : 0.002416,\n",
      "        'A2'            : -0.01912,\n",
      "        'A1'            : 0.07365,\n",
      "        'A0'            : 0.9259,\n",
      "        'B5'\t\t: -2.99e-09,\n",
      "        'B4'            : 5.35e-07,\n",
      "        'B3'            : -3.4e-05,\n",
      "        'B2'            : 0.000862,\n",
      "        'B1'            : -0.00699,\n",
      "        'B0'            : 1.0,\n",
      "        'FD'            :1}\n",
      "module=pd.Series(module)"
     ],
     "language": "python",
     "metadata": {},
     "outputs": [],
     "prompt_number": 12
    },
    {
     "cell_type": "heading",
     "level": 1,
     "metadata": {},
     "source": [
      "Processing"
     ]
    },
    {
     "cell_type": "heading",
     "level": 4,
     "metadata": {},
     "source": [
      "This section includes the calls to pvlib required to process from raw meterological data to system performance. "
     ]
    },
    {
     "cell_type": "heading",
     "level": 5,
     "metadata": {},
     "source": [
      "Import required modules. "
     ]
    },
    {
     "cell_type": "code",
     "collapsed": false,
     "input": [
      "import pvlib\n",
      "import pandas as pd\n"
     ],
     "language": "python",
     "metadata": {},
     "outputs": [],
     "prompt_number": 13
    },
    {
     "cell_type": "heading",
     "level": 5,
     "metadata": {},
     "source": [
      "NOTE: As a Developer, if you have changed any of the underlying pvlib files, you must reload them manually using the code below, or by restarting the kernel"
     ]
    },
    {
     "cell_type": "code",
     "collapsed": false,
     "input": [
      "reload(pd) # reload the pvl_perez module"
     ],
     "language": "python",
     "metadata": {},
     "outputs": [
      {
       "metadata": {},
       "output_type": "pyout",
       "prompt_number": 14,
       "text": [
        "<module 'pandas' from '/home/will/.virtualenvs/pvlib/lib/python2.7/site-packages/pandas/__init__.pyc'>"
       ]
      }
     ],
     "prompt_number": 14
    },
    {
     "cell_type": "heading",
     "level": 4,
     "metadata": {},
     "source": [
      "Functions covered in the MATLAB Tutorial:"
     ]
    },
    {
     "cell_type": "markdown",
     "metadata": {},
     "source": [
      "These functions import the site location, and available DNI and DHI information in order to calculate the in-plane irradiance, E, and its diffuse, Ediff, and direct, Eb, components"
     ]
    },
    {
     "cell_type": "code",
     "collapsed": false,
     "input": [
      "Data.info()"
     ],
     "language": "python",
     "metadata": {},
     "outputs": [
      {
       "output_type": "stream",
       "stream": "stdout",
       "text": [
        "<class 'pandas.core.frame.DataFrame'>\n",
        "DatetimeIndex: 5040 entries, 2008-10-20 00:00:07 to 2008-10-26 23:58:09\n",
        "Data columns (total 27 columns):\n",
        "0                   5040 non-null float64\n",
        "RefCellEeEAST       5040 non-null float64\n",
        "WindSpeed           5040 non-null float64\n",
        "Month               5040 non-null uint8\n",
        "GHI                 5040 non-null float64\n",
        "AirTemp             5040 non-null float64\n",
        "GNI                 5040 non-null float64\n",
        "Seconds             5040 non-null uint8\n",
        "Hours               5040 non-null uint8\n",
        "Pressure            5040 non-null float64\n",
        "RefCellEeWEST       5040 non-null float64\n",
        "RelativeHumidity    5040 non-null float64\n",
        "DHI                 5040 non-null float64\n",
        "RMBTime             5040 non-null float64\n",
        "DNI                 5040 non-null float64\n",
        "Days                5040 non-null uint16\n",
        "Minutes             5040 non-null uint8\n",
        "Year                5040 non-null uint16\n",
        "POA                 5040 non-null float64\n",
        "WindDirection       5040 non-null float64\n",
        "0_sys               5040 non-null float64\n",
        "ACVoltage           5040 non-null float64\n",
        "ACPower             5040 non-null float64\n",
        "DCVoltage           5040 non-null float64\n",
        "DCCurrent           5040 non-null float64\n",
        "ArrayTemp           5040 non-null float64\n",
        "ACCurrent           5040 non-null float64\n",
        "dtypes: float64(21), uint16(2), uint8(4)"
       ]
      }
     ],
     "prompt_number": 20
    },
    {
     "cell_type": "code",
     "collapsed": false,
     "input": [
      "Data['SunAz'],Data['SunEl'],Data['ApparentSunEl'],Data['SolarTime'], Data['SunZen']=pvlib.pvl_ephemeris(Time=Data.index,Location=meta)\n",
      "Data['HExtra']=pvlib.pvl_extraradiation(doy=Data.index.dayofyear)\n",
      "Data['AM']=pvlib.pvl_relativeairmass(z=Data.SunZen)\n",
      "Data['AOI']=pvlib.pvl_getaoi(SunAz=Data.SunAz,SunZen=Data.SunZen,SurfTilt=meta['tilt'],SurfAz=meta['aziumth'])\n",
      "\n",
      "Data['In_Plane_SkyDiffuse']=pvlib.pvl_perez(SurfTilt=meta['tilt'], #Problems with repeated minutes in the data!\n",
      "                                            SurfAz=meta['aziumth'],\n",
      "                                            DHI=Data['DHI'],\n",
      "                                            DNI=Data['DNI'],\n",
      "                                            HExtra=Data.HExtra,\n",
      "                                            SunZen=Data.SunZen,\n",
      "                                            SunAz=Data.SunAz,\n",
      "                                            AM=Data.AM)\n",
      "Data['GR']=pvlib.pvl_grounddiffuse(GHI=Data['GHI'],Albedo=meta['albedo'],SurfTilt=meta['tilt'])\n",
      "Data['E'],Data['Eb'],Data['EDiff']=pvlib.pvl_globalinplane(AOI=Data.AOI,\n",
      "                                DNI=Data['DNI'],\n",
      "                                In_Plane_SkyDiffuse=Data.In_Plane_SkyDiffuse,\n",
      "                                GR=Data.GR,\n",
      "                                SurfTilt=meta['tilt'],\n",
      "                                SurfAz=meta['aziumth'])\n",
      "\n"
     ],
     "language": "python",
     "metadata": {},
     "outputs": [
      {
       "ename": "TypeError",
       "evalue": "pvl_ephemeris() got an unexpected keyword argument 'Time'",
       "output_type": "pyerr",
       "traceback": [
        "\u001b[1;31m---------------------------------------------------------------------------\u001b[0m\n\u001b[1;31mTypeError\u001b[0m                                 Traceback (most recent call last)",
        "\u001b[1;32m<ipython-input-21-0f09aeff79b8>\u001b[0m in \u001b[0;36m<module>\u001b[1;34m()\u001b[0m\n\u001b[1;32m----> 1\u001b[1;33m \u001b[0mData\u001b[0m\u001b[1;33m[\u001b[0m\u001b[1;34m'SunAz'\u001b[0m\u001b[1;33m]\u001b[0m\u001b[1;33m,\u001b[0m\u001b[0mData\u001b[0m\u001b[1;33m[\u001b[0m\u001b[1;34m'SunEl'\u001b[0m\u001b[1;33m]\u001b[0m\u001b[1;33m,\u001b[0m\u001b[0mData\u001b[0m\u001b[1;33m[\u001b[0m\u001b[1;34m'ApparentSunEl'\u001b[0m\u001b[1;33m]\u001b[0m\u001b[1;33m,\u001b[0m\u001b[0mData\u001b[0m\u001b[1;33m[\u001b[0m\u001b[1;34m'SolarTime'\u001b[0m\u001b[1;33m]\u001b[0m\u001b[1;33m,\u001b[0m \u001b[0mData\u001b[0m\u001b[1;33m[\u001b[0m\u001b[1;34m'SunZen'\u001b[0m\u001b[1;33m]\u001b[0m\u001b[1;33m=\u001b[0m\u001b[0mpvlib\u001b[0m\u001b[1;33m.\u001b[0m\u001b[0mpvl_ephemeris\u001b[0m\u001b[1;33m(\u001b[0m\u001b[0mTime\u001b[0m\u001b[1;33m=\u001b[0m\u001b[0mData\u001b[0m\u001b[1;33m.\u001b[0m\u001b[0mindex\u001b[0m\u001b[1;33m,\u001b[0m\u001b[0mLocation\u001b[0m\u001b[1;33m=\u001b[0m\u001b[0mmeta\u001b[0m\u001b[1;33m)\u001b[0m\u001b[1;33m\u001b[0m\u001b[0m\n\u001b[0m\u001b[0;32m      2\u001b[0m \u001b[0mData\u001b[0m\u001b[1;33m[\u001b[0m\u001b[1;34m'HExtra'\u001b[0m\u001b[1;33m]\u001b[0m\u001b[1;33m=\u001b[0m\u001b[0mpvlib\u001b[0m\u001b[1;33m.\u001b[0m\u001b[0mpvl_extraradiation\u001b[0m\u001b[1;33m(\u001b[0m\u001b[0mdoy\u001b[0m\u001b[1;33m=\u001b[0m\u001b[0mData\u001b[0m\u001b[1;33m.\u001b[0m\u001b[0mindex\u001b[0m\u001b[1;33m.\u001b[0m\u001b[0mdayofyear\u001b[0m\u001b[1;33m)\u001b[0m\u001b[1;33m\u001b[0m\u001b[0m\n\u001b[0;32m      3\u001b[0m \u001b[0mData\u001b[0m\u001b[1;33m[\u001b[0m\u001b[1;34m'AM'\u001b[0m\u001b[1;33m]\u001b[0m\u001b[1;33m=\u001b[0m\u001b[0mpvlib\u001b[0m\u001b[1;33m.\u001b[0m\u001b[0mpvl_relativeairmass\u001b[0m\u001b[1;33m(\u001b[0m\u001b[0mz\u001b[0m\u001b[1;33m=\u001b[0m\u001b[0mData\u001b[0m\u001b[1;33m.\u001b[0m\u001b[0mSunZen\u001b[0m\u001b[1;33m)\u001b[0m\u001b[1;33m\u001b[0m\u001b[0m\n\u001b[0;32m      4\u001b[0m \u001b[0mData\u001b[0m\u001b[1;33m[\u001b[0m\u001b[1;34m'AOI'\u001b[0m\u001b[1;33m]\u001b[0m\u001b[1;33m=\u001b[0m\u001b[0mpvlib\u001b[0m\u001b[1;33m.\u001b[0m\u001b[0mpvl_getaoi\u001b[0m\u001b[1;33m(\u001b[0m\u001b[0mSunAz\u001b[0m\u001b[1;33m=\u001b[0m\u001b[0mData\u001b[0m\u001b[1;33m.\u001b[0m\u001b[0mSunAz\u001b[0m\u001b[1;33m,\u001b[0m\u001b[0mSunZen\u001b[0m\u001b[1;33m=\u001b[0m\u001b[0mData\u001b[0m\u001b[1;33m.\u001b[0m\u001b[0mSunZen\u001b[0m\u001b[1;33m,\u001b[0m\u001b[0mSurfTilt\u001b[0m\u001b[1;33m=\u001b[0m\u001b[0mmeta\u001b[0m\u001b[1;33m[\u001b[0m\u001b[1;34m'tilt'\u001b[0m\u001b[1;33m]\u001b[0m\u001b[1;33m,\u001b[0m\u001b[0mSurfAz\u001b[0m\u001b[1;33m=\u001b[0m\u001b[0mmeta\u001b[0m\u001b[1;33m[\u001b[0m\u001b[1;34m'aziumth'\u001b[0m\u001b[1;33m]\u001b[0m\u001b[1;33m)\u001b[0m\u001b[1;33m\u001b[0m\u001b[0m\n\u001b[0;32m      5\u001b[0m \u001b[1;33m\u001b[0m\u001b[0m\n",
        "\u001b[1;31mTypeError\u001b[0m: pvl_ephemeris() got an unexpected keyword argument 'Time'"
       ]
      }
     ],
     "prompt_number": 21
    },
    {
     "cell_type": "code",
     "collapsed": false,
     "input": [
      "Data.info()"
     ],
     "language": "python",
     "metadata": {},
     "outputs": [
      {
       "output_type": "stream",
       "stream": "stdout",
       "text": [
        "<class 'pandas.core.frame.DataFrame'>\n",
        "DatetimeIndex: 5040 entries, 2008-10-20 00:00:07 to 2008-10-26 23:58:09\n",
        "Data columns (total 27 columns):\n",
        "0                   5040 non-null float64\n",
        "RefCellEeEAST       5040 non-null float64\n",
        "WindSpeed           5040 non-null float64\n",
        "Month               5040 non-null uint8\n",
        "GHI                 5040 non-null float64\n",
        "AirTemp             5040 non-null float64\n",
        "GNI                 5040 non-null float64\n",
        "Seconds             5040 non-null uint8\n",
        "Hours               5040 non-null uint8\n",
        "Pressure            5040 non-null float64\n",
        "RefCellEeWEST       5040 non-null float64\n",
        "RelativeHumidity    5040 non-null float64\n",
        "DHI                 5040 non-null float64\n",
        "RMBTime             5040 non-null float64\n",
        "DNI                 5040 non-null float64\n",
        "Days                5040 non-null uint16\n",
        "Minutes             5040 non-null uint8\n",
        "Year                5040 non-null uint16\n",
        "POA                 5040 non-null float64\n",
        "WindDirection       5040 non-null float64\n",
        "0_sys               5040 non-null float64\n",
        "ACVoltage           5040 non-null float64\n",
        "ACPower             5040 non-null float64\n",
        "DCVoltage           5040 non-null float64\n",
        "DCCurrent           5040 non-null float64\n",
        "ArrayTemp           5040 non-null float64\n",
        "ACCurrent           5040 non-null float64\n",
        "dtypes: float64(21), uint16(2), uint8(4)"
       ]
      }
     ],
     "prompt_number": 22
    },
    {
     "cell_type": "heading",
     "level": 3,
     "metadata": {},
     "source": [
      "Calculate Cell Temperature"
     ]
    },
    {
     "cell_type": "heading",
     "level": 4,
     "metadata": {},
     "source": [
      "pvl_sapmcelltemp takes the total in-plane irradiance, wind speed, and ambient temperature"
     ]
    },
    {
     "cell_type": "markdown",
     "metadata": {},
     "source": [
      "Possible temperature models are: \n",
      "          * 'Open_rack_cell_glassback' (DEFAULT)\n",
      "          * 'Roof_mount_cell_glassback'\n",
      "          * 'Open_rack_cell_polymerback'\n",
      "          * 'Insulated_back_polumerback'\n",
      "          * 'Open_rack_Polymer_thinfilm_steel'\n",
      "          * '22X_Concentrator_tracker'"
     ]
    },
    {
     "cell_type": "code",
     "collapsed": false,
     "input": [
      "Data['Tcell'],Data['Tmodule']=pvlib.pvl_sapmcelltemp(E=Data.E,\n",
      "                            Wspd=Data.WindSpeed,\n",
      "                            Tamb=Data['AirTemp'],\n",
      "                            modelt='Open_rack_cell_polymerback')\n",
      "\n"
     ],
     "language": "python",
     "metadata": {},
     "outputs": [
      {
       "ename": "AttributeError",
       "evalue": "'DataFrame' object has no attribute 'E'",
       "output_type": "pyerr",
       "traceback": [
        "\u001b[1;31m---------------------------------------------------------------------------\u001b[0m\n\u001b[1;31mAttributeError\u001b[0m                            Traceback (most recent call last)",
        "\u001b[1;32m<ipython-input-23-e4390ffff1f3>\u001b[0m in \u001b[0;36m<module>\u001b[1;34m()\u001b[0m\n\u001b[1;32m----> 1\u001b[1;33m Data['Tcell'],Data['Tmodule']=pvlib.pvl_sapmcelltemp(E=Data.E,\n\u001b[0m\u001b[0;32m      2\u001b[0m                             \u001b[0mWspd\u001b[0m\u001b[1;33m=\u001b[0m\u001b[0mData\u001b[0m\u001b[1;33m.\u001b[0m\u001b[0mWindSpeed\u001b[0m\u001b[1;33m,\u001b[0m\u001b[1;33m\u001b[0m\u001b[0m\n\u001b[0;32m      3\u001b[0m                             \u001b[0mTamb\u001b[0m\u001b[1;33m=\u001b[0m\u001b[0mData\u001b[0m\u001b[1;33m[\u001b[0m\u001b[1;34m'AirTemp'\u001b[0m\u001b[1;33m]\u001b[0m\u001b[1;33m,\u001b[0m\u001b[1;33m\u001b[0m\u001b[0m\n\u001b[0;32m      4\u001b[0m                             modelt='Open_rack_cell_polymerback')\n\u001b[0;32m      5\u001b[0m \u001b[1;33m\u001b[0m\u001b[0m\n",
        "\u001b[1;32m/home/will/.virtualenvs/pvlib/lib/python2.7/site-packages/pandas/core/generic.pyc\u001b[0m in \u001b[0;36m__getattr__\u001b[1;34m(self, name)\u001b[0m\n\u001b[0;32m   1841\u001b[0m                 \u001b[1;32mreturn\u001b[0m \u001b[0mself\u001b[0m\u001b[1;33m[\u001b[0m\u001b[0mname\u001b[0m\u001b[1;33m]\u001b[0m\u001b[1;33m\u001b[0m\u001b[0m\n\u001b[0;32m   1842\u001b[0m             raise AttributeError(\"'%s' object has no attribute '%s'\" %\n\u001b[1;32m-> 1843\u001b[1;33m                                  (type(self).__name__, name))\n\u001b[0m\u001b[0;32m   1844\u001b[0m \u001b[1;33m\u001b[0m\u001b[0m\n\u001b[0;32m   1845\u001b[0m     \u001b[1;32mdef\u001b[0m \u001b[0m__setattr__\u001b[0m\u001b[1;33m(\u001b[0m\u001b[0mself\u001b[0m\u001b[1;33m,\u001b[0m \u001b[0mname\u001b[0m\u001b[1;33m,\u001b[0m \u001b[0mvalue\u001b[0m\u001b[1;33m)\u001b[0m\u001b[1;33m:\u001b[0m\u001b[1;33m\u001b[0m\u001b[0m\n",
        "\u001b[1;31mAttributeError\u001b[0m: 'DataFrame' object has no attribute 'E'"
       ]
      }
     ],
     "prompt_number": 23
    },
    {
     "cell_type": "markdown",
     "metadata": {},
     "source": [
      "Create a plot showing a timeseries comparison of temperature outputs"
     ]
    },
    {
     "cell_type": "code",
     "collapsed": false,
     "input": [
      "clf()\n",
      "plot(Data.index,Data.Tmodule,label='Calculated Temp')\n",
      "plot(Data.index,Data.ArrayTemp,label='Actual Temp')\n",
      "legend()\n"
     ],
     "language": "python",
     "metadata": {},
     "outputs": [
      {
       "metadata": {},
       "output_type": "pyout",
       "prompt_number": 31,
       "text": [
        "<matplotlib.legend.Legend at 0x109bf1e50>"
       ]
      }
     ],
     "prompt_number": 31
    },
    {
     "cell_type": "markdown",
     "metadata": {},
     "source": [
      "Create a plot showing a scatter plot comparison of module and cell temperature "
     ]
    },
    {
     "cell_type": "code",
     "collapsed": false,
     "input": [
      "clf()\n",
      "plot(Data.Tmodule,Data.ArrayTemp,'.',label='Module Temp')\n",
      "plot(Data.Tcell,Data.ArrayTemp,'.',label='Cell Temp')\n",
      "xlabel('Calulated')\n",
      "ylabel('Actual')\n",
      "plot(range(-10,70),range(-10,70))\n",
      "legend()"
     ],
     "language": "python",
     "metadata": {},
     "outputs": [
      {
       "metadata": {},
       "output_type": "pyout",
       "prompt_number": 32,
       "text": [
        "<matplotlib.legend.Legend at 0x10a0f6910>"
       ]
      }
     ],
     "prompt_number": 32
    },
    {
     "cell_type": "heading",
     "level": 3,
     "metadata": {},
     "source": [
      "Model system output using SAPM model "
     ]
    },
    {
     "cell_type": "markdown",
     "metadata": {},
     "source": [
      "The first lines of this section generate the in-plane beam and diffuse irradiance from measured POA and DNI values.\n",
      "\n",
      "These are then input into the samp model, along with the module coefficients given at the beginning of this script"
     ]
    },
    {
     "cell_type": "code",
     "collapsed": false,
     "input": [
      "Eb=Data.DNI*cos(np.radians(Data.AOI))\n",
      "\n",
      "Ediff=Data.POA-Eb\n",
      "\n",
      "\n",
      "DFOut=pvlib.pvl_sapm(Eb=Eb,\n",
      "                    Ediff=Ediff,\n",
      "                    Tcell=Data['Tcell'],\n",
      "                    AM=Data['AM'],\n",
      "                    AOI=Data['AOI'],\n",
      "                    Module=module)\n",
      "\n",
      "\n",
      "Data['Imp']=DFOut['Imp']*meta['parallelStrings']\n",
      "Data['Voc']=DFOut['Voc']\n",
      "Data['Vmp']=DFOut['Vmp']*meta['seriesModules']\n",
      "Data['Pmp']=Data.Imp*Data.Vmp\n",
      "Data['Ix']=DFOut['Ix']\n",
      "Data['Ixx']=DFOut['Ixx']\n"
     ],
     "language": "python",
     "metadata": {},
     "outputs": [],
     "prompt_number": 34
    },
    {
     "cell_type": "heading",
     "level": 3,
     "metadata": {},
     "source": [
      "Apply inverter model to system output"
     ]
    },
    {
     "cell_type": "markdown",
     "metadata": {},
     "source": [
      "Retrieve inverter characteristics from the online sandia inverter database. The Inverter used on this system is: 'SunPower_Corp__Original_Mfg___PV_Powered___SPR_2500_240V__CEC_2006_'\n",
      "\n",
      "Try erasing this name, setting the cursor beside Invdb. and pressing tab. You will see a list of all possible inverters in the database"
     ]
    },
    {
     "cell_type": "code",
     "collapsed": false,
     "input": [
      "Invdb=pvlib.pvl_retreiveSAM(name='SandiaInverter')\n",
      "\n",
      "inverter=Invdb.SunPower_Corp__Original_Mfg___PV_Powered___SPR_2500_240V__CEC_2006_\n"
     ],
     "language": "python",
     "metadata": {},
     "outputs": [],
     "prompt_number": 35
    },
    {
     "cell_type": "code",
     "collapsed": false,
     "input": [
      "inverter"
     ],
     "language": "python",
     "metadata": {},
     "outputs": [
      {
       "metadata": {},
       "output_type": "pyout",
       "prompt_number": 36,
       "text": [
        "Vac           240.000000\n",
        "Paco         2500.000000\n",
        "Pdco         2630.090000\n",
        "Vdco          219.232000\n",
        "Pso            41.361800\n",
        "C0             -0.000013\n",
        "C1              0.000067\n",
        "C2              0.001742\n",
        "C3              0.000614\n",
        "Pnt             3.900000\n",
        "Vdcmax        500.000000\n",
        "Idcmax         20.000000\n",
        "Mppt_low      140.000000\n",
        "Mppt_high     450.000000\n",
        "Name: SunPower_Corp__Original_Mfg___PV_Powered___SPR_2500_240V__CEC_2006_, dtype: float64"
       ]
      }
     ],
     "prompt_number": 36
    },
    {
     "cell_type": "markdown",
     "metadata": {},
     "source": [
      "Calculate AC power output"
     ]
    },
    {
     "cell_type": "code",
     "collapsed": false,
     "input": [
      "Data['ACPower_modelled']=pvlib.pvl_snlinverter(Vmp=Data.Vmp,Pmp=Data.Pmp,Inverter=inverter)\n",
      "\n"
     ],
     "language": "python",
     "metadata": {},
     "outputs": [],
     "prompt_number": 37
    },
    {
     "cell_type": "heading",
     "level": 4,
     "metadata": {},
     "source": [
      "Plot a timeseries of DC and AC system outputs"
     ]
    },
    {
     "cell_type": "code",
     "collapsed": false,
     "input": [
      "clf()\n",
      "plot(Data.index,Data.Pmp,label='Modelled DC Power')\n",
      "plot(Data.index,Data.DCVoltage*Data.DCCurrent, label='Measured DC power')\n",
      "plot(Data.index,Data.ACPower,label='Measured AC Power')\n",
      "plot(Data.index,Data.ACPower_modelled,label='Modelled AC Power')\n",
      "legend()"
     ],
     "language": "python",
     "metadata": {},
     "outputs": [
      {
       "metadata": {},
       "output_type": "pyout",
       "prompt_number": 38,
       "text": [
        "<matplotlib.legend.Legend at 0x105766d10>"
       ]
      }
     ],
     "prompt_number": 38
    },
    {
     "cell_type": "heading",
     "level": 4,
     "metadata": {},
     "source": [
      "Investigate the relative difference in Power output as a function of AM and AOI "
     ]
    },
    {
     "cell_type": "code",
     "collapsed": false,
     "input": [
      "Relative_difference=(Data.Pmp-Data.DCVoltage*Data.DCCurrent)/Data.DCVoltage*Data.DCCurrent\n",
      "clf()\n",
      "scatter(Data.AM,Relative_difference,c=Data.AOI)\n",
      "cb=colorbar()\n",
      "ylim([-2,6])\n",
      "xlim([1.3,3])\n",
      "xlabel('Air Mass')\n",
      "ylabel('Normalized Error')\n",
      "cb.set_label('AOI')"
     ],
     "language": "python",
     "metadata": {},
     "outputs": [],
     "prompt_number": 39
    },
    {
     "cell_type": "heading",
     "level": 3,
     "metadata": {},
     "source": [
      "Plot Inverter Efficiency curves"
     ]
    },
    {
     "cell_type": "code",
     "collapsed": false,
     "input": [
      "inv_eff_meas=Data.ACPower_modelled/Data.Pmp\n",
      "\n",
      "inv_eff_modelled=Data.ACPower/(Data.DCVoltage*Data.DCCurrent)\n",
      "\n",
      "clf()\n",
      "plot((Data.DCVoltage*Data.DCCurrent),inv_eff_meas,'.')\n",
      "plot(Data.Pmp,inv_eff_modelled,'.')"
     ],
     "language": "python",
     "metadata": {},
     "outputs": [
      {
       "metadata": {},
       "output_type": "pyout",
       "prompt_number": 40,
       "text": [
        "[<matplotlib.lines.Line2D at 0x110ae2bd0>]"
       ]
      }
     ],
     "prompt_number": 40
    },
    {
     "cell_type": "heading",
     "level": 2,
     "metadata": {},
     "source": [
      "Look at AM1.5"
     ]
    },
    {
     "cell_type": "heading",
     "level": 4,
     "metadata": {},
     "source": [
      "How often is a system actually operating at AM1.5?"
     ]
    },
    {
     "cell_type": "code",
     "collapsed": false,
     "input": [
      "meta={'aziumth':0,\n",
      "      'tilt':35,\n",
      "      'parallelStrings':1,\n",
      "      'seriesModules':5,\n",
      "      'latitude':35.05,\n",
      "      'longitude':-105.54,\n",
      "      'TZ':-7,\n",
      "      'albedo':.2}\n"
     ],
     "language": "python",
     "metadata": {},
     "outputs": [],
     "prompt_number": 43
    },
    {
     "cell_type": "code",
     "collapsed": false,
     "input": [
      "TMY=pd.read_csv('Golden_mSi0251.csv',skiprows=2,index_col=0,parse_dates=True)\n",
      "TMY['SunAz'],TMY['SunEl'],TMY['ApparentSunEl'],TMY['SolarTime'], TMY['SunZen']=pvlib.pvl_ephemeris(Time=TMY.index,Location=meta)\n",
      "TMY['AM']=pvlib.pvl_relativeairmass(z=TMY.SunZen)\n",
      "\n",
      "\n",
      "noon_AM=TMY.AM.ix[TMY.index.hour==12]\n",
      "hist(noon_AM)"
     ],
     "language": "python",
     "metadata": {},
     "outputs": [
      {
       "metadata": {},
       "output_type": "pyout",
       "prompt_number": 44,
       "text": [
        "(array([ 390.,  154.,  100.,   32.,   39.,   39.,   51.,   57.,   70.,   82.]),\n",
        " array([ 1.0205291 ,  1.11593618,  1.21134327,  1.30675036,  1.40215744,\n",
        "        1.49756453,  1.59297162,  1.6883787 ,  1.78378579,  1.87919288,\n",
        "        1.97459996]),\n",
        " <a list of 10 Patch objects>)"
       ]
      }
     ],
     "prompt_number": 44
    },
    {
     "cell_type": "code",
     "collapsed": false,
     "input": [],
     "language": "python",
     "metadata": {},
     "outputs": []
    }
   ],
   "metadata": {}
  }
 ]
}